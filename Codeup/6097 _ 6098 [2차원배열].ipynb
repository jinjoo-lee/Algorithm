{
 "cells": [
  {
   "cell_type": "markdown",
   "metadata": {},
   "source": [
    "## 6097\n",
    "### 설탕과자 뽑기\n",
    "#### 막대에 의해 가려진 경우 1, 아니면 0으로 출력"
   ]
  },
  {
   "cell_type": "markdown",
   "metadata": {},
   "source": [
    "1 <= w, h <= 100  \n",
    "1 <= n <= 10  \n",
    "d =0 or 1  \n",
    "1 <= x <= 100-h  \n",
    "1 <= y <= 100-w"
   ]
  },
  {
   "cell_type": "code",
   "execution_count": 1,
   "metadata": {},
   "outputs": [
    {
     "name": "stdout",
     "output_type": "stream",
     "text": [
      "5 5\n",
      "3\n",
      "2 0 1 1\n",
      "3 1 2 3\n",
      "4 1 2 5\n",
      "1 1 0 0 0 \n",
      "0 0 1 0 1 \n",
      "0 0 1 0 1 \n",
      "0 0 1 0 1 \n",
      "0 0 0 0 1 \n"
     ]
    }
   ],
   "source": [
    "h, w = map(int, input().split()) # h(세로), w(가로)\n",
    "n = int(input()) # n : 놓을 막대 수\n",
    "\n",
    "arr = []\n",
    "for i in range(h):\n",
    "    arr.append([])\n",
    "    for j in range(w):\n",
    "        arr[i].append(0)\n",
    "\n",
    "# 막대 놓는 방향(d) : 가로 = 0, 세로 = 1\n",
    "for i in range(n):\n",
    "    l, d, x, y = map(int, input().split()) # l(길이), d(방향), x,y(좌표)\n",
    "\n",
    "    for j in range(int(l)):\n",
    "        if (int(d) == 0): # 가로로 진행\n",
    "            arr[int(x) - 1][int(y) - 1 + j] = 1\n",
    "        else: # 세로로 진행\n",
    "            arr[int(x) - 1 + j][int(y) - 1] = 1\n",
    "\n",
    "for i in range(h):\n",
    "    for j in range(w):\n",
    "        print(arr[i][j], end=\" \")\n",
    "    print()"
   ]
  },
  {
   "cell_type": "markdown",
   "metadata": {},
   "source": [
    "## 6098\n",
    "### 성실한 개미\n",
    "#### 개미가 이동한 경로를 9로 표시해 출력"
   ]
  },
  {
   "cell_type": "markdown",
   "metadata": {},
   "source": [
    "개미는 먹이를 찾거나, 맨 아래의 가장 오른쪽에 도착한경우,  \n",
    "더 이상 움직일 수 없을 때까지 오른쪽 또는 아래쪽으로만 움직인다.  \n",
    "오른쪽으로 움직이다가 벽을 만나면 아래쪽으로 움직이고  \n",
    "오른쪽에 길이 나타나면 다시 오른쪽으로 움직인다.  \n",
    "미로의 구조는 0(갈 수 있는 곳), 1(장애물), 2(먹이) 로 주어진다.  \n",
    "개미집은 (2,2)에 존재하므로 거기부터 시작한다."
   ]
  },
  {
   "cell_type": "code",
   "execution_count": 2,
   "metadata": {},
   "outputs": [
    {
     "name": "stdout",
     "output_type": "stream",
     "text": [
      "1 1 1 1 1 1 1 1 1 1\n",
      "1 0 0 1 0 0 0 0 0 1\n",
      "1 0 0 1 1 1 0 0 0 1\n",
      "1 0 0 0 0 0 0 1 0 1\n",
      "1 0 0 0 0 0 0 1 0 1\n",
      "1 0 0 0 0 1 0 1 0 1\n",
      "1 0 0 0 0 1 2 1 0 1\n",
      "1 0 0 0 0 1 0 0 0 1\n",
      "1 0 0 0 0 0 0 0 0 1\n",
      "1 1 1 1 1 1 1 1 1 1\n",
      "1 1 1 1 1 1 1 1 1 1 \n",
      "1 9 9 1 0 0 0 0 0 1 \n",
      "1 0 9 1 1 1 0 0 0 1 \n",
      "1 0 9 9 9 9 9 1 0 1 \n",
      "1 0 0 0 0 0 9 1 0 1 \n",
      "1 0 0 0 0 1 9 1 0 1 \n",
      "1 0 0 0 0 1 9 1 0 1 \n",
      "1 0 0 0 0 1 0 0 0 1 \n",
      "1 0 0 0 0 0 0 0 0 1 \n",
      "1 1 1 1 1 1 1 1 1 1 \n"
     ]
    }
   ],
   "source": [
    "arr = []\n",
    "x = 1\n",
    "y = 1\n",
    "\n",
    "for i in range(10):\n",
    "    arr.append(list(map(int, input().split())))\n",
    "\n",
    "while True:\n",
    "    if (arr[x][y] == 0): # 길이 막혀있지 않은 경우\n",
    "        arr[x][y] = 9\n",
    "    elif (arr[x][y] == 2): # 먹이를 찾은 경우\n",
    "        arr[x][y] = 9\n",
    "        break\n",
    "\n",
    "    if ((arr[x][y+1] == 1) & arr[x+1][y] == 1):\n",
    "        # 오른쪽으로 갈 수 없고, 아래쪽으로도 갈 수 없는 경우\n",
    "        break\n",
    "\n",
    "    if (arr[x][y+1] == 1): # 오른쪽만 막혀 있는 경우\n",
    "        x += 1 # 아래쪽으로 이동\n",
    "    elif (arr[x+1][y] == 1): # 아래쪽만 막혀 있는 경우\n",
    "        y += 1 # 오른쪽으로 이동\n",
    "    else: # 둘 다 이동가능한 경우\n",
    "        y += 1\n",
    "\n",
    "for i in range(10):\n",
    "    for j in range(10):\n",
    "        print(arr[i][j], end=' ')\n",
    "    print()"
   ]
  }
 ],
 "metadata": {
  "kernelspec": {
   "display_name": "Python 3",
   "language": "python",
   "name": "python3"
  },
  "language_info": {
   "codemirror_mode": {
    "name": "ipython",
    "version": 3
   },
   "file_extension": ".py",
   "mimetype": "text/x-python",
   "name": "python",
   "nbconvert_exporter": "python",
   "pygments_lexer": "ipython3",
   "version": "3.8.5"
  },
  "toc": {
   "base_numbering": 1,
   "nav_menu": {},
   "number_sections": true,
   "sideBar": true,
   "skip_h1_title": false,
   "title_cell": "Table of Contents",
   "title_sidebar": "Contents",
   "toc_cell": false,
   "toc_position": {},
   "toc_section_display": true,
   "toc_window_display": false
  }
 },
 "nbformat": 4,
 "nbformat_minor": 4
}
