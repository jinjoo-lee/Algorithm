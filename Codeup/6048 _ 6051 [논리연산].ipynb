{
 "cells": [
  {
   "cell_type": "markdown",
   "metadata": {},
   "source": [
    "## 6052"
   ]
  },
  {
   "cell_type": "code",
   "execution_count": 1,
   "metadata": {},
   "outputs": [
    {
     "name": "stdout",
     "output_type": "stream",
     "text": [
      "5\n",
      "True\n"
     ]
    }
   ],
   "source": [
    "a = input()\n",
    "\n",
    "if(int(a) != 0):\n",
    "    print(True)\n",
    "else:\n",
    "    print(False)"
   ]
  },
  {
   "cell_type": "markdown",
   "metadata": {},
   "source": [
    "## 6053"
   ]
  },
  {
   "cell_type": "code",
   "execution_count": 2,
   "metadata": {},
   "outputs": [
    {
     "name": "stdout",
     "output_type": "stream",
     "text": [
      "1\n",
      "False\n"
     ]
    }
   ],
   "source": [
    "a = bool(int(input()))\n",
    "\n",
    "print(not a)"
   ]
  },
  {
   "cell_type": "markdown",
   "metadata": {},
   "source": [
    "## 6054"
   ]
  },
  {
   "cell_type": "code",
   "execution_count": 6,
   "metadata": {},
   "outputs": [
    {
     "name": "stdout",
     "output_type": "stream",
     "text": [
      "1 0\n",
      "False\n"
     ]
    }
   ],
   "source": [
    "a, b = input().split()\n",
    "a = bool(int(a))\n",
    "b = bool(int(b))\n",
    "\n",
    "print(a & b)"
   ]
  },
  {
   "cell_type": "markdown",
   "metadata": {},
   "source": [
    "## 6055"
   ]
  },
  {
   "cell_type": "code",
   "execution_count": 8,
   "metadata": {},
   "outputs": [
    {
     "name": "stdout",
     "output_type": "stream",
     "text": [
      "0 0\n",
      "False\n"
     ]
    }
   ],
   "source": [
    "a, b = input().split()\n",
    "a = bool(int(a))\n",
    "b = bool(int(b))\n",
    "\n",
    "print(a | b)"
   ]
  },
  {
   "cell_type": "markdown",
   "metadata": {},
   "source": [
    "## 6056\n",
    "### 입력값이 서로 다른 경우에 true (XOR 연산)"
   ]
  },
  {
   "cell_type": "code",
   "execution_count": 9,
   "metadata": {},
   "outputs": [
    {
     "name": "stdout",
     "output_type": "stream",
     "text": [
      "1 0\n",
      "True\n"
     ]
    }
   ],
   "source": [
    "a, b = input().split()\n",
    "a = bool(int(a))\n",
    "b = bool(int(b))\n",
    "\n",
    "print((a & (not b)) | ((not a) & b) )"
   ]
  },
  {
   "cell_type": "markdown",
   "metadata": {},
   "source": [
    "## 6057\n",
    "### 입력값이 모두 같은 경우에 true"
   ]
  },
  {
   "cell_type": "code",
   "execution_count": 10,
   "metadata": {},
   "outputs": [
    {
     "name": "stdout",
     "output_type": "stream",
     "text": [
      "1 0\n",
      "False\n"
     ]
    }
   ],
   "source": [
    "a, b = input().split()\n",
    "a = bool(int(a))\n",
    "b = bool(int(b))\n",
    "\n",
    "print((a | (not b)) & ((not a) | b) )"
   ]
  },
  {
   "cell_type": "markdown",
   "metadata": {},
   "source": [
    "## 6058\n",
    "### 입력값이 모두 false 인 경우에 true"
   ]
  },
  {
   "cell_type": "code",
   "execution_count": 11,
   "metadata": {},
   "outputs": [
    {
     "name": "stdout",
     "output_type": "stream",
     "text": [
      "0 0\n",
      "True\n"
     ]
    }
   ],
   "source": [
    "a, b = input().split()\n",
    "a = bool(int(a))\n",
    "b = bool(int(b))\n",
    "\n",
    "print(((not a) & (not b)) | ((not a) & (not b)) )"
   ]
  }
 ],
 "metadata": {
  "kernelspec": {
   "display_name": "Python 3",
   "language": "python",
   "name": "python3"
  },
  "language_info": {
   "codemirror_mode": {
    "name": "ipython",
    "version": 3
   },
   "file_extension": ".py",
   "mimetype": "text/x-python",
   "name": "python",
   "nbconvert_exporter": "python",
   "pygments_lexer": "ipython3",
   "version": "3.8.5"
  }
 },
 "nbformat": 4,
 "nbformat_minor": 4
}
