{
 "cells": [
  {
   "cell_type": "markdown",
   "id": "09a851e9",
   "metadata": {},
   "source": [
    "## 1011 - Fly me to the Alpha Centauri\n",
    "* n : 테스트 케이스 개수, a : 현재위치, b : 목표위치"
   ]
  },
  {
   "cell_type": "code",
   "execution_count": 1,
   "id": "b4182397",
   "metadata": {},
   "outputs": [
    {
     "name": "stdout",
     "output_type": "stream",
     "text": [
      "3\n",
      "0 3\n",
      "1 5\n",
      "45 50\n",
      "3\n",
      "3\n",
      "4\n"
     ]
    }
   ],
   "source": [
    "import math\n",
    "\n",
    "n = int(input())\n",
    "\n",
    "cnt = 0\n",
    "result = []\n",
    "\n",
    "for _ in range(n):\n",
    "    a, b = map(int, input().split())\n",
    "    distance = b - a\n",
    "\n",
    "    num = math.floor(math.sqrt(distance)) # 주어진 값들 사이의 거리에 루트 씌움(제곱근)\n",
    "    num_jegob = num ** 2 # 정수를 제곱근으로 갖는 제곱수(ex. 9 : 9의 제곱근은 3)\n",
    "\n",
    "    if distance == num_jegob:\n",
    "        cnt = (num * 2) - 1\n",
    "\n",
    "    elif distance <= (num_jegob + num):\n",
    "        cnt = (num * 2)\n",
    "\n",
    "    elif (num_jegob + num) < distance:\n",
    "        cnt = (num * 2) + 1\n",
    "\n",
    "    elif distance < 4:\n",
    "        cnt = distance\n",
    "\n",
    "    result.append(cnt)\n",
    "\n",
    "for i in result:\n",
    "    print(i)"
   ]
  }
 ],
 "metadata": {
  "kernelspec": {
   "display_name": "Python 3",
   "language": "python",
   "name": "python3"
  },
  "language_info": {
   "codemirror_mode": {
    "name": "ipython",
    "version": 3
   },
   "file_extension": ".py",
   "mimetype": "text/x-python",
   "name": "python",
   "nbconvert_exporter": "python",
   "pygments_lexer": "ipython3",
   "version": "3.8.8"
  }
 },
 "nbformat": 4,
 "nbformat_minor": 5
}
