{
 "cells": [
  {
   "cell_type": "markdown",
   "metadata": {},
   "source": [
    "## 6092\n",
    "### 1번부터 번호가 입력된 횟수를 순서대로 공백으로 구분해 출력"
   ]
  },
  {
   "execution_count": 1,
   "metadata": {},
   "outputs": [
    {
     "name": "stdout",
     "output_type": "stream",
     "text": [
      "10\n",
      "1 3 2 2 5 6 7 4 5 9\n",
      "1 2 1 1 2 1 1 0 1 0 0 0 0 0 0 0 0 0 0 0 0 0 0 "
     ]
    }
   ],
   "source": [
    "n = int(input()) # n : 숫자 입력 횟수\n",
    "a = input().split() # a : 무작위로 입력하는 숫자(1~23)\n",
    "\n",
    "for i in range(n):\n",
    "    a[i] = int(a[i])\n",
    "\n",
    "d = []\n",
    "for i in range(24):\n",
    "    d.append(0)\n",
    "\n",
    "for i in range(n):\n",
    "    d[a[i]] += 1\n",
    "\n",
    "for i in range(1, 24):\n",
    "    print(d[i], end=' ')"
   ]
  },
  {
   "cell_type": "markdown",
   "metadata": {},
   "source": [
    "## 6093\n",
    "### 입력된 번호를 거꾸로 공백을 두고 출력"
   ]
  },
  {
   "cell_type": "code",
   "execution_count": 2,
   "metadata": {},
   "outputs": [
    {
     "name": "stdout",
     "output_type": "stream",
     "text": [
      "10\n",
      "10 4 2 3 6 6 7 9 8 5\n",
      "5 8 9 7 6 6 3 2 4 10 "
     ]
    }
   ],
   "source": [
    "n = int(input()) # n : 숫자 입력 횟수\n",
    "a = input().split() # a : 무작위로 입력하는 숫자(1~23)\n",
    "\n",
    "for i in range(n):\n",
    "    a[i] = int(a[i])\n",
    "for i in range(n-1, -1, -1):\n",
    "    print(a[i], end=' ')"
   ]
  },
  {
   "cell_type": "markdown",
   "metadata": {},
   "source": [
    "## 6094\n",
    "### 입력한 숫자 중 가장 빠른 번호 출력"
   ]
  },
  {
   "cell_type": "code",
   "execution_count": 6,
   "metadata": {},
   "outputs": [
    {
     "name": "stdout",
     "output_type": "stream",
     "text": [
      "10\n",
      "10 4 2 3 6 6 7 9 8 5\n",
      "2\n",
      "10\n"
     ]
    }
   ],
   "source": [
    "n = int(input()) # n : 숫자 입력 횟수\n",
    "a = input().split() # a: 무작위로 입력하는 숫자\n",
    "\n",
    "for i in range(n):\n",
    "    a[i] = int(a[i])\n",
    "print(min(a))\n",
    "print(max(a))"
   ]
  }
 ],
 "metadata": {
  "kernelspec": {
   "display_name": "Python 3",
   "language": "python",
   "name": "python3"
  },
  "language_info": {
   "codemirror_mode": {
    "name": "ipython",
    "version": 3
   },
   "file_extension": ".py",
   "mimetype": "text/x-python",
   "name": "python",
   "nbconvert_exporter": "python",
   "pygments_lexer": "ipython3",
   "version": "3.8.5"
  },
  "toc": {
   "base_numbering": 1,
   "nav_menu": {},
   "number_sections": true,
   "sideBar": true,
   "skip_h1_title": false,
   "title_cell": "Table of Contents",
   "title_sidebar": "Contents",
   "toc_cell": false,
   "toc_position": {},
   "toc_section_display": true,
   "toc_window_display": false
  }
 },
 "nbformat": 4,
 "nbformat_minor": 4
}
