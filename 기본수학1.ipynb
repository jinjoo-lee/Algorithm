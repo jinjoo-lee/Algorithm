{
 "cells": [
  {
   "cell_type": "markdown",
   "id": "7ffe8481",
   "metadata": {},
   "source": [
    "## 10250 - ACM 호텔\n",
    "* h : 호텔 층, w : 방 개수, n : 몇 번째 손님인지"
   ]
  },
  {
   "cell_type": "code",
   "execution_count": 1,
   "id": "2f9aea10",
   "metadata": {},
   "outputs": [
    {
     "name": "stdout",
     "output_type": "stream",
     "text": [
      "2\n",
      "6 12 10\n",
      "402\n",
      "30 50 72\n",
      "1203\n"
     ]
    }
   ],
   "source": [
    "t = int(input())\n",
    "for i in range(t):\n",
    "    h, w, n = map(int, input().split())\n",
    "    # 층수 계산\n",
    "    a = n % h\n",
    "    # 호수 계산\n",
    "    b = n // h + 1\n",
    "    # 꼭대기층에 머물 경우\n",
    "    if a == 0:\n",
    "        a = h\n",
    "        b -= 1\n",
    "    print(a * 100 + b)"
   ]
  },
  {
   "cell_type": "markdown",
   "id": "0838c7d1",
   "metadata": {},
   "source": [
    "## 2775 - 부녀회장\n",
    "* t : 테스트케이스 횟수, k : 층수, n : 호수"
   ]
  },
  {
   "cell_type": "code",
   "execution_count": 2,
   "id": "b9631524",
   "metadata": {},
   "outputs": [
    {
     "name": "stdout",
     "output_type": "stream",
     "text": [
      "2\n",
      "1\n",
      "3\n",
      "6\n",
      "2\n",
      "3\n",
      "10\n"
     ]
    }
   ],
   "source": [
    "t = int(input())\n",
    "for i in range(t):\n",
    "    k = int(input())\n",
    "    n = int(input())\n",
    "    # 0층의 n호실까지의 값 저장\n",
    "    arr = [i for i in range(1, n+1)]\n",
    "    \n",
    "    for x in range(k):\n",
    "        for y in range(1, n):\n",
    "            arr[y] += arr[y-1]\n",
    "    print(arr[-1])"
   ]
  },
  {
   "cell_type": "markdown",
   "id": "10fd2cf2",
   "metadata": {},
   "source": [
    "## 2839 - 설탕배달"
   ]
  },
  {
   "cell_type": "code",
   "execution_count": 3,
   "id": "c902723f",
   "metadata": {},
   "outputs": [
    {
     "name": "stdout",
     "output_type": "stream",
     "text": [
      "18\n",
      "4\n"
     ]
    }
   ],
   "source": [
    "n = int(input())\n",
    "\n",
    "cnt = 0\n",
    "while n >= 0:\n",
    "    if n % 5 == 0: # 5의 배수일 때\n",
    "        cnt += n // 5\n",
    "        print(cnt)\n",
    "        break\n",
    "    # 5의 배수가 될 때까지 설탕 -3, 봉지 +1\n",
    "    n -= 3\n",
    "    cnt += 1\n",
    "else:\n",
    "    print(-1)"
   ]
  }
 ],
 "metadata": {
  "kernelspec": {
   "display_name": "Python 3",
   "language": "python",
   "name": "python3"
  },
  "language_info": {
   "codemirror_mode": {
    "name": "ipython",
    "version": 3
   },
   "file_extension": ".py",
   "mimetype": "text/x-python",
   "name": "python",
   "nbconvert_exporter": "python",
   "pygments_lexer": "ipython3",
   "version": "3.8.8"
  }
 },
 "nbformat": 4,
 "nbformat_minor": 5
}
