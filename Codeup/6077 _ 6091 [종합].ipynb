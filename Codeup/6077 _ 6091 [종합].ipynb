{
 "cells": [
  {
   "cell_type": "markdown",
   "metadata": {},
   "source": [
    "## 6077\n",
    "### 입력값까지의 짝수 합 구하기"
   ]
  },
  {
   "cell_type": "code",
   "execution_count": 1,
   "metadata": {},
   "outputs": [
    {
     "name": "stdout",
     "output_type": "stream",
     "text": [
      "8\n",
      "20\n"
     ]
    }
   ],
   "source": [
    "a = int(input())\n",
    "b = 0\n",
    "for i in range(a + 1):\n",
    "    if i % 2 == 0:\n",
    "        b += i\n",
    "print(b)"
   ]
  },
  {
   "cell_type": "markdown",
   "metadata": {},
   "source": [
    "## 6078"
   ]
  },
  {
   "cell_type": "code",
   "execution_count": 2,
   "metadata": {},
   "outputs": [
    {
     "name": "stdout",
     "output_type": "stream",
     "text": [
      "a\n",
      "a\n",
      "c\n",
      "c\n",
      "t\n",
      "t\n",
      "e\n",
      "e\n",
      "j\n",
      "j\n",
      "n\n",
      "n\n",
      "p\n",
      "p\n",
      "q\n",
      "q\n"
     ]
    }
   ],
   "source": [
    "while True:\n",
    "    a = input()\n",
    "    print(a)\n",
    "\n",
    "    if a == 'q':\n",
    "        break"
   ]
  },
  {
   "cell_type": "markdown",
   "metadata": {},
   "source": [
    "## 6079"
   ]
  },
  {
   "cell_type": "code",
   "execution_count": 3,
   "metadata": {},
   "outputs": [
    {
     "name": "stdout",
     "output_type": "stream",
     "text": [
      "5\n",
      "3\n"
     ]
    }
   ],
   "source": [
    "a = int(input())\n",
    "b = 1\n",
    "sum = 0\n",
    "\n",
    "while True:\n",
    "    sum += b\n",
    "    if sum >= a:\n",
    "        break\n",
    "    b = b + 1\n",
    "print(b)"
   ]
  },
  {
   "cell_type": "markdown",
   "metadata": {},
   "source": [
    "## 6080\n",
    "### 1부터 a, b까지 숫자가 적힌 서로 다른 주사위 2개를 던졌을 때, 나올 수 있는 경우의 수"
   ]
  },
  {
   "cell_type": "code",
   "execution_count": 5,
   "metadata": {},
   "outputs": [
    {
     "name": "stdout",
     "output_type": "stream",
     "text": [
      "2 3\n",
      "1 1\n",
      "1 2\n",
      "1 3\n",
      "2 1\n",
      "2 2\n",
      "2 3\n"
     ]
    }
   ],
   "source": [
    "a, b = map(int, input().split())\n",
    "\n",
    "for i in range(1, a+1, 1):\n",
    "    for j in range(1, b+1, 1):\n",
    "        print(i, j)\n",
    "        if j == b:\n",
    "            break\n",
    "    if i == a:\n",
    "        break"
   ]
  },
  {
   "cell_type": "markdown",
   "metadata": {},
   "source": [
    "## 6081\n",
    "### 16진수 구구단"
   ]
  },
  {
   "cell_type": "code",
   "execution_count": 7,
   "metadata": {},
   "outputs": [
    {
     "name": "stdout",
     "output_type": "stream",
     "text": [
      "D\n",
      "D*1=D\n",
      "D*2=1A\n",
      "D*3=27\n",
      "D*4=34\n",
      "D*5=41\n",
      "D*6=4E\n",
      "D*7=5B\n",
      "D*8=68\n",
      "D*9=75\n",
      "D*A=82\n",
      "D*B=8F\n",
      "D*C=9C\n",
      "D*D=A9\n",
      "D*E=B6\n",
      "D*F=C3\n"
     ]
    }
   ],
   "source": [
    "a = int(input(), 16)\n",
    "\n",
    "for i in range(1, 16):\n",
    "    print('%X'%a, '*%X'%i, '=%X'%(a*i), sep='')"
   ]
  },
  {
   "cell_type": "markdown",
   "metadata": {},
   "source": [
    "## 6082\n",
    "### 369 게임(입력값은 30보다 작다)"
   ]
  },
  {
   "cell_type": "code",
   "execution_count": 8,
   "metadata": {},
   "outputs": [
    {
     "name": "stdout",
     "output_type": "stream",
     "text": [
      "17\n",
      "1 2 X 4 5 X 7 8 X 10 11 12 X 14 15 X 17 "
     ]
    }
   ],
   "source": [
    "a = int(input())\n",
    "\n",
    "for i in range(a + 1):\n",
    "    i = i + 1\n",
    "    if i % 10 == 3:\n",
    "        print(\"X\", end=' ')\n",
    "    elif i % 10 == 6:\n",
    "        print(\"X\", end=' ')\n",
    "    elif i % 10 == 9:\n",
    "        print(\"X\", end=' ')    \n",
    "    else:\n",
    "        print(i, end=' ')\n",
    "    if i == a:\n",
    "        break"
   ]
  },
  {
   "cell_type": "markdown",
   "metadata": {},
   "source": [
    "## 6083\n",
    "### 입력값들로 만들 수 있는 모든 경우의 수"
   ]
  },
  {
   "cell_type": "code",
   "execution_count": 12,
   "metadata": {},
   "outputs": [
    {
     "name": "stdout",
     "output_type": "stream",
     "text": [
      "2 2 2\n",
      "000\n",
      "001\n",
      "010\n",
      "011\n",
      "100\n",
      "101\n",
      "110\n",
      "111\n",
      "8\n"
     ]
    }
   ],
   "source": [
    "r, g, b = map(int, input().split())\n",
    "sum = 0\n",
    "\n",
    "for i in range(r):\n",
    "    for j in range(g):\n",
    "        for z in range(b):\n",
    "            print(i, j, z, sep='')\n",
    "            sum = sum + 1\n",
    "print(sum)"
   ]
  },
  {
   "cell_type": "markdown",
   "metadata": {},
   "source": [
    "## 6084\n",
    "### 소리파일 용량 계산"
   ]
  },
  {
   "cell_type": "code",
   "execution_count": 13,
   "metadata": {},
   "outputs": [
    {
     "name": "stdout",
     "output_type": "stream",
     "text": [
      "44100 16 2 10\n",
      "1.7 MB\n"
     ]
    }
   ],
   "source": [
    "h, b, c, s = map(int, input().split())\n",
    "storage = h * b * c * s / 8 / 1024 / 1024\n",
    "\n",
    "print('%.1f' %storage, \"MB\")"
   ]
  },
  {
   "cell_type": "markdown",
   "metadata": {},
   "source": [
    "## 6085\n",
    "### 그림파일 용량 계산"
   ]
  },
  {
   "cell_type": "code",
   "execution_count": 14,
   "metadata": {},
   "outputs": [
    {
     "name": "stdout",
     "output_type": "stream",
     "text": [
      "1021 768 24\n",
      "2.24 MB\n"
     ]
    }
   ],
   "source": [
    "w, h, b = map(int, input().split())\n",
    "storage = w * h * b / 8 / 1024 / 1024\n",
    "\n",
    "print('%.2f' %storage, \"MB\")"
   ]
  },
  {
   "cell_type": "markdown",
   "metadata": {},
   "source": [
    "## 6086"
   ]
  },
  {
   "cell_type": "code",
   "execution_count": 15,
   "metadata": {},
   "outputs": [
    {
     "name": "stdout",
     "output_type": "stream",
     "text": [
      "5\n",
      "6\n"
     ]
    }
   ],
   "source": [
    "a = int(input())\n",
    "sum = 0\n",
    "\n",
    "for i in range(a+1):\n",
    "    sum += i\n",
    "    i = i + 1\n",
    "    if sum >= a:\n",
    "        break\n",
    "print(sum)"
   ]
  },
  {
   "cell_type": "markdown",
   "metadata": {},
   "source": [
    "## 6087\n",
    "### 입력값까지 출력하는데 3의 배수는 출력하지 않음"
   ]
  },
  {
   "cell_type": "code",
   "execution_count": 16,
   "metadata": {},
   "outputs": [
    {
     "name": "stdout",
     "output_type": "stream",
     "text": [
      "16\n",
      "1 2 4 5 7 8 10 11 13 14 16 "
     ]
    }
   ],
   "source": [
    "a = int(input())\n",
    "\n",
    "for i in range(1, a+1):\n",
    "    if i % 3 == 0:\n",
    "        continue\n",
    "    print(i, end=' ')"
   ]
  },
  {
   "cell_type": "markdown",
   "metadata": {},
   "source": [
    "## 6088\n",
    "### 등차수열, n번째 값 출력"
   ]
  },
  {
   "cell_type": "code",
   "execution_count": 18,
   "metadata": {},
   "outputs": [
    {
     "name": "stdout",
     "output_type": "stream",
     "text": [
      "1 3 5\n",
      "13\n"
     ]
    }
   ],
   "source": [
    "a, d, n = map(int, input().split())\n",
    "# a(시작 값), d(등차 값), n(몇 번째 수인지)\n",
    "\n",
    "for i in range(n+1):\n",
    "    if i == n-1:\n",
    "        print(a)\n",
    "        break\n",
    "    a += d"
   ]
  },
  {
   "cell_type": "markdown",
   "metadata": {},
   "source": [
    "## 6089\n",
    "### 등비수열"
   ]
  },
  {
   "cell_type": "code",
   "execution_count": 20,
   "metadata": {},
   "outputs": [
    {
     "name": "stdout",
     "output_type": "stream",
     "text": [
      "2 3 7\n",
      "1458\n"
     ]
    }
   ],
   "source": [
    "a, r, n = map(int, input().split())\n",
    "# a(시작 값), r(등비 값), n(몇 번째 수인지)\n",
    "\n",
    "for i in range(n+1):\n",
    "    if i == n-1:\n",
    "        print(a)\n",
    "        break\n",
    "    a *= r"
   ]
  },
  {
   "cell_type": "markdown",
   "metadata": {},
   "source": [
    "## 6090\n",
    "### 수열 만들고 n번째 값 출력"
   ]
  },
  {
   "cell_type": "code",
   "execution_count": 1,
   "metadata": {},
   "outputs": [
    {
     "name": "stdout",
     "output_type": "stream",
     "text": [
      "1 -2 1 8\n",
      "-85\n"
     ]
    }
   ],
   "source": [
    "a, m, d, n = map(int, input().split())\n",
    "# a(시작 값), m(곱할 값), d(더할 값), n(몇 번째 수인지)\n",
    "\n",
    "for i in range(n+1):\n",
    "    if i == n-1:\n",
    "        print(a)\n",
    "        break\n",
    "    a *= m\n",
    "    a += d"
   ]
  },
  {
   "cell_type": "markdown",
   "metadata": {},
   "source": [
    "## 6091\n",
    "### a,b,c 는 각 방문 주기로 세 사람의 방문이 겹치는 날 구하기"
   ]
  },
  {
   "cell_type": "code",
   "execution_count": 2,
   "metadata": {},
   "outputs": [
    {
     "name": "stdout",
     "output_type": "stream",
     "text": [
      "3 7 9\n",
      "63\n"
     ]
    }
   ],
   "source": [
    "a, b, c = map(int, input().split())\n",
    "day = 1\n",
    "\n",
    "while True:\n",
    "    if (day % a == 0) & (day % b == 0) & (day % c == 0):\n",
    "        print(day)\n",
    "        break\n",
    "    day = day + 1"
   ]
  }
 ],
 "metadata": {
  "kernelspec": {
   "display_name": "Python 3",
   "language": "python",
   "name": "python3"
  },
  "language_info": {
   "codemirror_mode": {
    "name": "ipython",
    "version": 3
   },
   "file_extension": ".py",
   "mimetype": "text/x-python",
   "name": "python",
   "nbconvert_exporter": "python",
   "pygments_lexer": "ipython3",
   "version": "3.8.5"
  }
 },
 "nbformat": 4,
 "nbformat_minor": 4
}
