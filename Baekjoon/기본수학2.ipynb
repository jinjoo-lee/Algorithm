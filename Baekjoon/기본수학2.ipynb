{
 "cells": [
  {
   "cell_type": "markdown",
   "id": "c9331521",
   "metadata": {},
   "source": [
    "## 1978 - 소수찾기"
   ]
  },
  {
   "cell_type": "code",
   "execution_count": 3,
   "id": "04e9d82e",
   "metadata": {},
   "outputs": [
    {
     "name": "stdout",
     "output_type": "stream",
     "text": [
      "2\n",
      "1 10\n",
      "0\n"
     ]
    }
   ],
   "source": [
    "n = int(input())\n",
    "num =  map(int, input().split())\n",
    "num_cnt = 0\n",
    "\n",
    "for i in num: # 입력받은 수들 꺼내오기\n",
    "    cnt = 0\n",
    "    if i == 1:\n",
    "        continue\n",
    "    for j in range(2, i + 1):\n",
    "        if i % j == 0:\n",
    "            cnt += 1\n",
    "    if cnt == 1:\n",
    "        num_cnt += 1\n",
    "print(num_cnt)"
   ]
  },
  {
   "cell_type": "markdown",
   "id": "2b313142",
   "metadata": {},
   "source": [
    "## 2581 - 소수"
   ]
  },
  {
   "cell_type": "code",
   "execution_count": 4,
   "id": "ad9cd095",
   "metadata": {},
   "outputs": [
    {
     "name": "stdout",
     "output_type": "stream",
     "text": [
      "5\n",
      "15\n",
      "36\n",
      "5\n"
     ]
    }
   ],
   "source": [
    "m = int(input())\n",
    "n = int(input())\n",
    "\n",
    "arr = []\n",
    "for i in range(m, n+1):\n",
    "    if i == 1:\n",
    "        continue\n",
    "    elif i == 2:\n",
    "        arr.append(i)\n",
    "    else:\n",
    "        for j in range(2, i):\n",
    "            if i % j == 0:\n",
    "                break\n",
    "            elif j == i - 1 :\n",
    "                arr.append(i)\n",
    "\n",
    "if len(arr) == 0:\n",
    "    print('-1')\n",
    "else:\n",
    "    print(sum(arr))\n",
    "    print(min(arr))"
   ]
  },
  {
   "cell_type": "markdown",
   "id": "5ea2e4f1",
   "metadata": {},
   "source": [
    "## 11653 - 소인수분해"
   ]
  },
  {
   "cell_type": "code",
   "execution_count": 6,
   "id": "30534d1e",
   "metadata": {},
   "outputs": [
    {
     "name": "stdout",
     "output_type": "stream",
     "text": [
      "20\n",
      "2\n",
      "2\n",
      "5\n"
     ]
    }
   ],
   "source": [
    "n = int(input())\n",
    "\n",
    "x = 2\n",
    "while n != 1:\n",
    "    if n % x == 0:\n",
    "        n = n / x\n",
    "        print(x)\n",
    "    else:\n",
    "        x += 1"
   ]
  },
  {
   "cell_type": "markdown",
   "id": "fc4a9779",
   "metadata": {},
   "source": [
    "## 1929 - 소수 구하기\n",
    "* k의 제곱근까지 나누어서 떨어진다면 소수가 아님(약수를 가짐)"
   ]
  },
  {
   "cell_type": "code",
   "execution_count": 8,
   "id": "a7a3b8ec",
   "metadata": {},
   "outputs": [
    {
     "name": "stdout",
     "output_type": "stream",
     "text": [
      "2 16\n",
      "2\n",
      "3\n",
      "5\n",
      "7\n",
      "11\n",
      "13\n"
     ]
    }
   ],
   "source": [
    "import math\n",
    "\n",
    "def isPrime(num):\n",
    "    if num == 1:\n",
    "        return False\n",
    "\n",
    "    n = int(math.sqrt(num))\n",
    "    for k in range(2, n+1):\n",
    "        if num % k == 0:\n",
    "            return False\n",
    "    return True\n",
    "\n",
    "m, n = map(int, input().split())\n",
    "for k in range(m, n+1):\n",
    "    if isPrime(k):\n",
    "        print(k)"
   ]
  },
  {
   "cell_type": "markdown",
   "id": "c36b40d4",
   "metadata": {},
   "source": [
    "## 4948 - 베르트랑 공준\n",
    "* n보다 크고, 2n보다 작거나 같은 소수의 개수"
   ]
  },
  {
   "cell_type": "code",
   "execution_count": null,
   "id": "991caa09",
   "metadata": {},
   "outputs": [],
   "source": [
    "# 시간초과\n",
    "import math\n",
    "\n",
    "while 1:\n",
    "    n = int(input())\n",
    "    if n == 0:\n",
    "        break\n",
    "\n",
    "    cnt = 0\n",
    "    for i in range(n+1, 2*n+1):\n",
    "        if i == 1:\n",
    "            continue\n",
    "        elif i == 2:\n",
    "            cnt += 1\n",
    "            continue\n",
    "        else:\n",
    "            for j in range(2, int(math.sqrt(i)+1)):\n",
    "                if i % j == 0:\n",
    "                    break\n",
    "            else:\n",
    "                cnt += 1\n",
    "    print(cnt)"
   ]
  },
  {
   "cell_type": "code",
   "execution_count": 9,
   "id": "9761846c",
   "metadata": {},
   "outputs": [
    {
     "name": "stdout",
     "output_type": "stream",
     "text": [
      "15\n",
      "4\n",
      "16\n",
      "5\n",
      "24\n",
      "6\n",
      "0\n"
     ]
    }
   ],
   "source": [
    "import math\n",
    "\n",
    "def isPrime(num):\n",
    "    if num == 1:\n",
    "        return False\n",
    "\n",
    "    for i in range(2, int(math.sqrt(num)+1)):\n",
    "        if num % i == 0:\n",
    "            return False\n",
    "    return True\n",
    "\n",
    "arr = list(range(2, 246912)) # 주어진 수 범위\n",
    "prime_arr = [] # 범위 내의 소수 넣을 리스트 생성\n",
    "for i in arr: \n",
    "    if isPrime(i): # 범위 내의 소수 구하기\n",
    "        prime_arr.append(i)\n",
    "\n",
    "while 1:\n",
    "    cnt = 0\n",
    "    n = int(input())\n",
    "    if n == 0:\n",
    "        break\n",
    "\n",
    "    for i in prime_arr:\n",
    "        if n < i <= n*2: # 범위 내의 소수가 입력값 사이에 존재하는지 확인\n",
    "            cnt += 1 # 존재하는 경우에 +1\n",
    "    print(cnt)"
   ]
  },
  {
   "cell_type": "markdown",
   "id": "4c92e2cc",
   "metadata": {},
   "source": [
    "### 에라토스테네스의 체\n",
    "* 범위에서 합성수 지우는 방식으로 소수 찾기"
   ]
  },
  {
   "cell_type": "code",
   "execution_count": null,
   "id": "59f96cda",
   "metadata": {},
   "outputs": [],
   "source": [
    "n = 1000\n",
    "# 0, 1번 인덱스는 false, 나머지는 true인 리스트 생성\n",
    "a = [False, False] + [True] * (n-1)\n",
    "primes = []\n",
    "\n",
    "for i in range(2, n+1):\n",
    "    if a[i]:\n",
    "        primes.append(i)\n",
    "    for j in range(2*i, n+1, i):\n",
    "        a[j] = False\n",
    "print(primes)"
   ]
  },
  {
   "cell_type": "markdown",
   "id": "a7542d21",
   "metadata": {},
   "source": [
    "## 9020 - 골드바흐의 추측\n",
    "* n에 대한 골드바흐 파티션 구하기"
   ]
  },
  {
   "cell_type": "code",
   "execution_count": null,
   "id": "cb3a2adf",
   "metadata": {},
   "outputs": [],
   "source": [
    "def Goldbach():\n",
    "    check = [False, False] + [True] * 10000\n",
    "\n",
    "    for i in range(2, 101): # 100까지 수 중 소수 찾기\n",
    "        if check[i] == True:\n",
    "            for j in range(i+i, 10001, i): # i의 배수는 소수가 아님\n",
    "                check[j] = False\n",
    "\n",
    "    t = int(input()) # 횟수\n",
    "    for _ in range(t):\n",
    "        n = int(input())\n",
    "\n",
    "        # 입력된 수 절반 나눠서 계산\n",
    "        a = n // 2\n",
    "        b = a\n",
    "        for _ in range(10000):\n",
    "            if check[a] and check[b]: # 소수일 때만 true 반환함\n",
    "                print(a, b)\n",
    "                break\n",
    "            a -= 1 # 절반에서 줄어드는 값\n",
    "            b += 1 # 절반에서 늘어나는 값\n",
    "\n",
    "Goldbach()"
   ]
  },
  {
   "cell_type": "markdown",
   "id": "f7ebcb8a",
   "metadata": {},
   "source": [
    "## 1085 - 직사각형에서 탈출\n",
    "* x,y : 현재 좌표, w,h: 오른쪽 위 꼭짓점\n",
    "* 직사각형의 경계선까지 가는 거리의 최솟값 구하기"
   ]
  },
  {
   "cell_type": "code",
   "execution_count": 10,
   "id": "475c5685",
   "metadata": {},
   "outputs": [
    {
     "name": "stdout",
     "output_type": "stream",
     "text": [
      "6 2 10 3\n",
      "1\n"
     ]
    }
   ],
   "source": [
    "x, y, w, h = map(int, input().split())\n",
    "print(min([x, y, w - x, h - y]))"
   ]
  },
  {
   "cell_type": "markdown",
   "id": "dbfe8a14",
   "metadata": {},
   "source": [
    "## 3009 - 네번째 점\n",
    "* 세 점이 주어질 때, 축에 평행한 직사각형 만들기 위해 필요한 네번째 점 찾기/"
   ]
  },
  {
   "cell_type": "code",
   "execution_count": 11,
   "id": "4e2527c7",
   "metadata": {},
   "outputs": [
    {
     "name": "stdout",
     "output_type": "stream",
     "text": [
      "5 5\n",
      "5 7\n",
      "7 5\n",
      "7 7\n"
     ]
    }
   ],
   "source": [
    "x_arr = []\n",
    "y_arr = []\n",
    "\n",
    "for _ in range(3): # 입력된 x, y를 리스트에 담기\n",
    "    x, y = map(int, input().split())\n",
    "    x_arr.append(x)\n",
    "    y_arr.append(y)\n",
    "\n",
    "for i in range(3): # 리스트에 있는 값들 개수 센 후 1개인 값을 결과값으로 받기\n",
    "    if x_arr.count(x_arr[i]) == 1:\n",
    "        x4 = x_arr[i]\n",
    "    if y_arr.count(y_arr[i]) == 1:\n",
    "        y4 = y_arr[i]\n",
    "\n",
    "print(x4, y4)"
   ]
  },
  {
   "cell_type": "markdown",
   "id": "bf20a01f",
   "metadata": {},
   "source": [
    "## 4153 - 직각삼각형"
   ]
  },
  {
   "cell_type": "code",
   "execution_count": 12,
   "id": "85028713",
   "metadata": {},
   "outputs": [
    {
     "name": "stdout",
     "output_type": "stream",
     "text": [
      "6 8 10\n",
      "right\n",
      "25 52 60\n",
      "wrong\n",
      "0 0 0\n"
     ]
    }
   ],
   "source": [
    "while 1:\n",
    "    a = list(map(int, input().split()))\n",
    "    max_num = max(a)\n",
    "    if sum(a) == 0:\n",
    "        break\n",
    "    a.remove(max_num)\n",
    "    if a[0]**2 + a[1]**2 == max_num**2:\n",
    "        print('right')\n",
    "    else:\n",
    "        print('wrong')\n"
   ]
  },
  {
   "cell_type": "markdown",
   "id": "b212a518",
   "metadata": {},
   "source": [
    "## 3053 - 택시 기하학\n",
    "* 반지름 r을 이용해 유클리드 기하학과 택시 기하학에서의 원의 넓이 출력\n",
    "    - 유클리드 기하학 : pi * (r ^ 2)\n",
    "    - 택시 기하학 : 밑변의 길이와 높이가 r인 삼각형 네 개의 넓이"
   ]
  },
  {
   "cell_type": "code",
   "execution_count": 1,
   "id": "67b18430",
   "metadata": {},
   "outputs": [
    {
     "name": "stdout",
     "output_type": "stream",
     "text": [
      "1\n",
      "3.141593\n",
      "2.000000\n"
     ]
    }
   ],
   "source": [
    "import math\n",
    "\n",
    "r = int(input())\n",
    "print(f'{r**2*math.pi:.6f}')\n",
    "print(f'{r**2*2:.6f}')"
   ]
  },
  {
   "cell_type": "markdown",
   "id": "0ddf8539",
   "metadata": {},
   "source": [
    "## 1002 - 터렛\n",
    "* x1,y1 : 조규현 좌표, x2,y2 : 백승현 좌표, r1 : 조규현과 류재명 거리, r2 : 백승환과 류재명 거리\n",
    "* 류재명이 있을 수 있는 좌표 수 출력"
   ]
  },
  {
   "cell_type": "code",
   "execution_count": 2,
   "id": "5cfdf40c",
   "metadata": {},
   "outputs": [
    {
     "name": "stdout",
     "output_type": "stream",
     "text": [
      "2\n",
      "0 0 3 0 7 4\n",
      "1\n",
      "1 1 1 1 1 5\n",
      "0\n"
     ]
    }
   ],
   "source": [
    "n = int(input())\n",
    "for i in range(n):\n",
    "    x1, y1, r1, x2, y2, r2 = map(int, input().split())\n",
    "    d = ((x1 - x2)**2 + (y1 - y2)**2) ** 0.5\n",
    "\n",
    "    if r2 > r1: # 접점과의 거리 구할 때 음수 발생하지 않도록 제어\n",
    "        r1, r2 = r2, r1\n",
    "\n",
    "    if d == 0:\n",
    "        if r1 == r2: # 두 원은 완전히 겹쳐서 접점이 무한대\n",
    "            print(-1)\n",
    "        else: # 겹칠 수 없음\n",
    "            print(0)\n",
    "\n",
    "    else:\n",
    "        if (r1 + r2 == d) or (r1 - r2 == d): # 접점 1개\n",
    "            print(1)\n",
    "        elif (r1 + r2 > d) and (r1 - r2 < d): # 접점 2개\n",
    "            print(2)\n",
    "        else: # 접점 0개\n",
    "            print(0)"
   ]
  }
 ],
 "metadata": {
  "kernelspec": {
   "display_name": "Python 3",
   "language": "python",
   "name": "python3"
  },
  "language_info": {
   "codemirror_mode": {
    "name": "ipython",
    "version": 3
   },
   "file_extension": ".py",
   "mimetype": "text/x-python",
   "name": "python",
   "nbconvert_exporter": "python",
   "pygments_lexer": "ipython3",
   "version": "3.8.8"
  }
 },
 "nbformat": 4,
 "nbformat_minor": 5
}
