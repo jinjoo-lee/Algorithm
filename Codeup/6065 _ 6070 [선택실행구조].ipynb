{
 "cells": [
  {
   "cell_type": "markdown",
   "metadata": {},
   "source": [
    "## 6065\n",
    "### 입력한 정수가 짝수일때만 출력"
   ]
  },
  {
   "cell_type": "code",
   "execution_count": 1,
   "metadata": {},
   "outputs": [
    {
     "name": "stdout",
     "output_type": "stream",
     "text": [
      "10 3 8\n",
      "10\n",
      "8\n"
     ]
    }
   ],
   "source": [
    "a, b, c = map(int, input().split())\n",
    "\n",
    "if(a % 2 == 0):\n",
    "    print(a)\n",
    "if(b % 2 == 0):\n",
    "    print(b)\n",
    "if(c % 2 == 0):\n",
    "    print(c)"
   ]
  },
  {
   "cell_type": "markdown",
   "metadata": {},
   "source": [
    "## 6066\n",
    "### 입력값이 짝수면 even 홀수면 odd 출력"
   ]
  },
  {
   "cell_type": "code",
   "execution_count": 2,
   "metadata": {},
   "outputs": [
    {
     "name": "stdout",
     "output_type": "stream",
     "text": [
      "10 5 9\n",
      "even\n",
      "odd\n",
      "odd\n"
     ]
    }
   ],
   "source": [
    "a, b, c = map(int, input().split())\n",
    "\n",
    "if(a % 2 == 0):\n",
    "    print(\"even\")\n",
    "else:\n",
    "    print(\"odd\")\n",
    "if(b % 2 == 0):\n",
    "    print(\"even\")\n",
    "else:\n",
    "    print(\"odd\")\n",
    "if(c % 2 == 0):\n",
    "    print(\"even\")\n",
    "else:\n",
    "    print(\"odd\")"
   ]
  },
  {
   "cell_type": "markdown",
   "metadata": {},
   "source": [
    "## 6067"
   ]
  },
  {
   "cell_type": "code",
   "execution_count": 3,
   "metadata": {},
   "outputs": [
    {
     "name": "stdout",
     "output_type": "stream",
     "text": [
      "-6\n",
      "A\n"
     ]
    }
   ],
   "source": [
    "a = int(input())\n",
    "\n",
    "if(a < 0) & (a % 2 == 0):\n",
    "    print(\"A\")\n",
    "elif(a < 0) & (a % 2 != 0):\n",
    "    print(\"B\")\n",
    "elif(a > 0) & (a % 2 == 0):\n",
    "    print(\"C\")\n",
    "else:\n",
    "    print(\"D\")"
   ]
  },
  {
   "cell_type": "markdown",
   "metadata": {},
   "source": [
    "## 6068\n",
    "### 점수대별로 다른 문자 출력"
   ]
  },
  {
   "cell_type": "code",
   "execution_count": 4,
   "metadata": {},
   "outputs": [
    {
     "name": "stdout",
     "output_type": "stream",
     "text": [
      "76\n",
      "B\n"
     ]
    }
   ],
   "source": [
    "a = int(input())\n",
    "\n",
    "if(a >= 90):\n",
    "    print(\"A\")\n",
    "elif(a >= 70):\n",
    "    print(\"B\")\n",
    "elif(a >= 40):\n",
    "    print(\"C\")\n",
    "else:\n",
    "    print(\"D\")"
   ]
  },
  {
   "cell_type": "markdown",
   "metadata": {},
   "source": [
    "## 6069\n",
    "### 입력한 문자별로 다른 문구 출력"
   ]
  },
  {
   "cell_type": "code",
   "execution_count": 5,
   "metadata": {},
   "outputs": [
    {
     "name": "stdout",
     "output_type": "stream",
     "text": [
      "B\n",
      "good!!\n"
     ]
    }
   ],
   "source": [
    "a = input()\n",
    "\n",
    "if(a == 'A'):\n",
    "    print(\"best!!!\")\n",
    "elif(a == 'B'):\n",
    "    print(\"good!!\")\n",
    "elif(a == 'C'):\n",
    "    print(\"run!\")\n",
    "elif(a == 'D'):\n",
    "    print(\"slowly~\")\n",
    "else:\n",
    "    print(\"what?\")"
   ]
  },
  {
   "cell_type": "markdown",
   "metadata": {},
   "source": [
    "## 6070\n",
    "### 월별로 계절 출력"
   ]
  },
  {
   "cell_type": "code",
   "execution_count": 8,
   "metadata": {},
   "outputs": [
    {
     "name": "stdout",
     "output_type": "stream",
     "text": [
      "6\n",
      "summer\n"
     ]
    }
   ],
   "source": [
    "a = int(input())\n",
    "\n",
    "if(a // 3 == 1): # 입력값을 3으로 나눴을때 몫이 1인 경우 (3,4,5)\n",
    "    print(\"spring\")\n",
    "elif(a // 3 == 2): # 입력값을 3으로 나눴을때 몫이 2인 경우 (6,7,8)\n",
    "    print(\"summer\")\n",
    "elif(a // 3 == 3): # 입력값을 3으로 나눴을때 몫이 3인 경우 (9,10,11)\n",
    "    print(\"fall\")\n",
    "else: # 12,1,2\n",
    "    print(\"winter\")"
   ]
  }
 ],
 "metadata": {
  "kernelspec": {
   "display_name": "Python 3",
   "language": "python",
   "name": "python3"
  },
  "language_info": {
   "codemirror_mode": {
    "name": "ipython",
    "version": 3
   },
   "file_extension": ".py",
   "mimetype": "text/x-python",
   "name": "python",
   "nbconvert_exporter": "python",
   "pygments_lexer": "ipython3",
   "version": "3.8.5"
  }
 },
 "nbformat": 4,
 "nbformat_minor": 4
}
